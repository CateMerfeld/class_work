{
  "nbformat": 4,
  "nbformat_minor": 0,
  "metadata": {
    "colab": {
      "name": "mushroom_species_classifier.ipynb",
      "provenance": [],
      "authorship_tag": "ABX9TyMbs3xVpuZ9UwV+i4Rz6I+X",
      "include_colab_link": true
    },
    "kernelspec": {
      "name": "python3",
      "display_name": "Python 3"
    }
  },
  "cells": [
    {
      "cell_type": "markdown",
      "metadata": {
        "id": "view-in-github",
        "colab_type": "text"
      },
      "source": [
        "<a href=\"https://colab.research.google.com/github/CateMerfeld/class_work/blob/main/mushroom_species_classifier.ipynb\" target=\"_parent\"><img src=\"https://colab.research.google.com/assets/colab-badge.svg\" alt=\"Open In Colab\"/></a>"
      ]
    },
    {
      "cell_type": "markdown",
      "metadata": {
        "id": "iEQccIE89ZOq"
      },
      "source": [
        "Expanding the poisonous/edible classifier to classify mushrooms of different species. Starting with some of the most common New England varieties: Lion's Mane (Hericium erinaceus); Chicken of the Woods (laetiporus sulphureus); Hen of the Woods (Grifola frondosa); Oyster Mushroom (Pleurotus ostreatus); Fly Agaric (Amanita muscaria); Eyelash Cup (Scutellina scutellata); Black Chanterelle (Craterellus cornucopioides); Tree Lungwort (Lobaria pulmonaria)."
      ]
    },
    {
      "cell_type": "code",
      "metadata": {
        "id": "JL6xxrSu-7rt"
      },
      "source": [
        ""
      ],
      "execution_count": null,
      "outputs": []
    }
  ]
}