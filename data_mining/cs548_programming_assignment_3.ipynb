{
 "cells": [
  {
   "cell_type": "code",
   "execution_count": null,
   "id": "ef56f927",
   "metadata": {},
   "outputs": [],
   "source": [
    "import pandas as pd\n",
    "from sklearn.model_selection import train_test_split\n",
    "import matplotlib.pyplot as plt\n",
    "import numpy as np\n",
    "import torch\n",
    "from torch.utils.data import DataLoader, TensorDataset\n",
    "\n",
    "import torch.nn as nn\n",
    "import torch.optim as optim\n",
    "\n",
    "from sklearn.ensemble import RandomForestClassifier\n",
    "\n",
    "from sklearn.metrics import confusion_matrix\n",
    "import seaborn as sns\n",
    "import matplotlib.pyplot as plt\n",
    "\n",
    "from sklearn.decomposition import PCA\n",
    "from sklearn.preprocessing import StandardScaler"
   ]
  },
  {
   "cell_type": "code",
   "execution_count": null,
   "id": "7f8039dc",
   "metadata": {},
   "outputs": [],
   "source": [
    "train_data = pd.read_csv('data/MNIST/train.csv')\n",
    "x_test = pd.read_csv('data/MNIST/test.csv')"
   ]
  },
  {
   "cell_type": "code",
   "execution_count": 3,
   "id": "e929785e",
   "metadata": {},
   "outputs": [
    {
     "name": "stdout",
     "output_type": "stream",
     "text": [
      "Training data shape: (33600, 785)\n",
      "Validation data shape: (8400, 785)\n"
     ]
    }
   ],
   "source": [
    "# Split the training data into training and validation sets\n",
    "train_data, val_data = train_test_split(train_data, test_size=0.2, random_state=42)\n",
    "\n",
    "print(\"Training data shape:\", train_data.shape)\n",
    "print(\"Validation data shape:\", val_data.shape)"
   ]
  },
  {
   "cell_type": "markdown",
   "id": "2252b8a3",
   "metadata": {},
   "source": [
    "# EDA:\n",
    "---"
   ]
  },
  {
   "cell_type": "code",
   "execution_count": 82,
   "id": "f3a7636a",
   "metadata": {},
   "outputs": [
    {
     "data": {
      "text/html": [
       "<div>\n",
       "<style scoped>\n",
       "    .dataframe tbody tr th:only-of-type {\n",
       "        vertical-align: middle;\n",
       "    }\n",
       "\n",
       "    .dataframe tbody tr th {\n",
       "        vertical-align: top;\n",
       "    }\n",
       "\n",
       "    .dataframe thead th {\n",
       "        text-align: right;\n",
       "    }\n",
       "</style>\n",
       "<table border=\"1\" class=\"dataframe\">\n",
       "  <thead>\n",
       "    <tr style=\"text-align: right;\">\n",
       "      <th></th>\n",
       "      <th>label</th>\n",
       "      <th>pixel0</th>\n",
       "      <th>pixel1</th>\n",
       "      <th>pixel2</th>\n",
       "      <th>pixel3</th>\n",
       "      <th>pixel4</th>\n",
       "      <th>pixel5</th>\n",
       "      <th>pixel6</th>\n",
       "      <th>pixel7</th>\n",
       "      <th>pixel8</th>\n",
       "      <th>...</th>\n",
       "      <th>pixel774</th>\n",
       "      <th>pixel775</th>\n",
       "      <th>pixel776</th>\n",
       "      <th>pixel777</th>\n",
       "      <th>pixel778</th>\n",
       "      <th>pixel779</th>\n",
       "      <th>pixel780</th>\n",
       "      <th>pixel781</th>\n",
       "      <th>pixel782</th>\n",
       "      <th>pixel783</th>\n",
       "    </tr>\n",
       "  </thead>\n",
       "  <tbody>\n",
       "    <tr>\n",
       "      <th>34941</th>\n",
       "      <td>6</td>\n",
       "      <td>0</td>\n",
       "      <td>0</td>\n",
       "      <td>0</td>\n",
       "      <td>0</td>\n",
       "      <td>0</td>\n",
       "      <td>0</td>\n",
       "      <td>0</td>\n",
       "      <td>0</td>\n",
       "      <td>0</td>\n",
       "      <td>...</td>\n",
       "      <td>0</td>\n",
       "      <td>0</td>\n",
       "      <td>0</td>\n",
       "      <td>0</td>\n",
       "      <td>0</td>\n",
       "      <td>0</td>\n",
       "      <td>0</td>\n",
       "      <td>0</td>\n",
       "      <td>0</td>\n",
       "      <td>0</td>\n",
       "    </tr>\n",
       "    <tr>\n",
       "      <th>24433</th>\n",
       "      <td>5</td>\n",
       "      <td>0</td>\n",
       "      <td>0</td>\n",
       "      <td>0</td>\n",
       "      <td>0</td>\n",
       "      <td>0</td>\n",
       "      <td>0</td>\n",
       "      <td>0</td>\n",
       "      <td>0</td>\n",
       "      <td>0</td>\n",
       "      <td>...</td>\n",
       "      <td>0</td>\n",
       "      <td>0</td>\n",
       "      <td>0</td>\n",
       "      <td>0</td>\n",
       "      <td>0</td>\n",
       "      <td>0</td>\n",
       "      <td>0</td>\n",
       "      <td>0</td>\n",
       "      <td>0</td>\n",
       "      <td>0</td>\n",
       "    </tr>\n",
       "    <tr>\n",
       "      <th>24432</th>\n",
       "      <td>3</td>\n",
       "      <td>0</td>\n",
       "      <td>0</td>\n",
       "      <td>0</td>\n",
       "      <td>0</td>\n",
       "      <td>0</td>\n",
       "      <td>0</td>\n",
       "      <td>0</td>\n",
       "      <td>0</td>\n",
       "      <td>0</td>\n",
       "      <td>...</td>\n",
       "      <td>0</td>\n",
       "      <td>0</td>\n",
       "      <td>0</td>\n",
       "      <td>0</td>\n",
       "      <td>0</td>\n",
       "      <td>0</td>\n",
       "      <td>0</td>\n",
       "      <td>0</td>\n",
       "      <td>0</td>\n",
       "      <td>0</td>\n",
       "    </tr>\n",
       "    <tr>\n",
       "      <th>8832</th>\n",
       "      <td>4</td>\n",
       "      <td>0</td>\n",
       "      <td>0</td>\n",
       "      <td>0</td>\n",
       "      <td>0</td>\n",
       "      <td>0</td>\n",
       "      <td>0</td>\n",
       "      <td>0</td>\n",
       "      <td>0</td>\n",
       "      <td>0</td>\n",
       "      <td>...</td>\n",
       "      <td>0</td>\n",
       "      <td>0</td>\n",
       "      <td>0</td>\n",
       "      <td>0</td>\n",
       "      <td>0</td>\n",
       "      <td>0</td>\n",
       "      <td>0</td>\n",
       "      <td>0</td>\n",
       "      <td>0</td>\n",
       "      <td>0</td>\n",
       "    </tr>\n",
       "    <tr>\n",
       "      <th>30291</th>\n",
       "      <td>7</td>\n",
       "      <td>0</td>\n",
       "      <td>0</td>\n",
       "      <td>0</td>\n",
       "      <td>0</td>\n",
       "      <td>0</td>\n",
       "      <td>0</td>\n",
       "      <td>0</td>\n",
       "      <td>0</td>\n",
       "      <td>0</td>\n",
       "      <td>...</td>\n",
       "      <td>0</td>\n",
       "      <td>0</td>\n",
       "      <td>0</td>\n",
       "      <td>0</td>\n",
       "      <td>0</td>\n",
       "      <td>0</td>\n",
       "      <td>0</td>\n",
       "      <td>0</td>\n",
       "      <td>0</td>\n",
       "      <td>0</td>\n",
       "    </tr>\n",
       "  </tbody>\n",
       "</table>\n",
       "<p>5 rows × 785 columns</p>\n",
       "</div>"
      ],
      "text/plain": [
       "       label  pixel0  pixel1  pixel2  pixel3  pixel4  pixel5  pixel6  pixel7  \\\n",
       "34941      6       0       0       0       0       0       0       0       0   \n",
       "24433      5       0       0       0       0       0       0       0       0   \n",
       "24432      3       0       0       0       0       0       0       0       0   \n",
       "8832       4       0       0       0       0       0       0       0       0   \n",
       "30291      7       0       0       0       0       0       0       0       0   \n",
       "\n",
       "       pixel8  ...  pixel774  pixel775  pixel776  pixel777  pixel778  \\\n",
       "34941       0  ...         0         0         0         0         0   \n",
       "24433       0  ...         0         0         0         0         0   \n",
       "24432       0  ...         0         0         0         0         0   \n",
       "8832        0  ...         0         0         0         0         0   \n",
       "30291       0  ...         0         0         0         0         0   \n",
       "\n",
       "       pixel779  pixel780  pixel781  pixel782  pixel783  \n",
       "34941         0         0         0         0         0  \n",
       "24433         0         0         0         0         0  \n",
       "24432         0         0         0         0         0  \n",
       "8832          0         0         0         0         0  \n",
       "30291         0         0         0         0         0  \n",
       "\n",
       "[5 rows x 785 columns]"
      ]
     },
     "execution_count": 82,
     "metadata": {},
     "output_type": "execute_result"
    }
   ],
   "source": [
    "train_data.head()"
   ]
  },
  {
   "cell_type": "code",
   "execution_count": 83,
   "id": "7a4ba5a2",
   "metadata": {},
   "outputs": [
    {
     "data": {
      "text/html": [
       "<div>\n",
       "<style scoped>\n",
       "    .dataframe tbody tr th:only-of-type {\n",
       "        vertical-align: middle;\n",
       "    }\n",
       "\n",
       "    .dataframe tbody tr th {\n",
       "        vertical-align: top;\n",
       "    }\n",
       "\n",
       "    .dataframe thead th {\n",
       "        text-align: right;\n",
       "    }\n",
       "</style>\n",
       "<table border=\"1\" class=\"dataframe\">\n",
       "  <thead>\n",
       "    <tr style=\"text-align: right;\">\n",
       "      <th></th>\n",
       "      <th>label</th>\n",
       "      <th>pixel0</th>\n",
       "      <th>pixel1</th>\n",
       "      <th>pixel2</th>\n",
       "      <th>pixel3</th>\n",
       "      <th>pixel4</th>\n",
       "      <th>pixel5</th>\n",
       "      <th>pixel6</th>\n",
       "      <th>pixel7</th>\n",
       "      <th>pixel8</th>\n",
       "      <th>...</th>\n",
       "      <th>pixel774</th>\n",
       "      <th>pixel775</th>\n",
       "      <th>pixel776</th>\n",
       "      <th>pixel777</th>\n",
       "      <th>pixel778</th>\n",
       "      <th>pixel779</th>\n",
       "      <th>pixel780</th>\n",
       "      <th>pixel781</th>\n",
       "      <th>pixel782</th>\n",
       "      <th>pixel783</th>\n",
       "    </tr>\n",
       "  </thead>\n",
       "  <tbody>\n",
       "    <tr>\n",
       "      <th>count</th>\n",
       "      <td>33600.000000</td>\n",
       "      <td>33600.0</td>\n",
       "      <td>33600.0</td>\n",
       "      <td>33600.0</td>\n",
       "      <td>33600.0</td>\n",
       "      <td>33600.0</td>\n",
       "      <td>33600.0</td>\n",
       "      <td>33600.0</td>\n",
       "      <td>33600.0</td>\n",
       "      <td>33600.0</td>\n",
       "      <td>...</td>\n",
       "      <td>33600.000000</td>\n",
       "      <td>33600.000000</td>\n",
       "      <td>33600.000000</td>\n",
       "      <td>33600.000000</td>\n",
       "      <td>33600.000000</td>\n",
       "      <td>33600.000000</td>\n",
       "      <td>33600.0</td>\n",
       "      <td>33600.0</td>\n",
       "      <td>33600.0</td>\n",
       "      <td>33600.0</td>\n",
       "    </tr>\n",
       "    <tr>\n",
       "      <th>mean</th>\n",
       "      <td>4.455893</td>\n",
       "      <td>0.0</td>\n",
       "      <td>0.0</td>\n",
       "      <td>0.0</td>\n",
       "      <td>0.0</td>\n",
       "      <td>0.0</td>\n",
       "      <td>0.0</td>\n",
       "      <td>0.0</td>\n",
       "      <td>0.0</td>\n",
       "      <td>0.0</td>\n",
       "      <td>...</td>\n",
       "      <td>0.232589</td>\n",
       "      <td>0.123899</td>\n",
       "      <td>0.066042</td>\n",
       "      <td>0.025238</td>\n",
       "      <td>0.021548</td>\n",
       "      <td>0.003571</td>\n",
       "      <td>0.0</td>\n",
       "      <td>0.0</td>\n",
       "      <td>0.0</td>\n",
       "      <td>0.0</td>\n",
       "    </tr>\n",
       "    <tr>\n",
       "      <th>std</th>\n",
       "      <td>2.888117</td>\n",
       "      <td>0.0</td>\n",
       "      <td>0.0</td>\n",
       "      <td>0.0</td>\n",
       "      <td>0.0</td>\n",
       "      <td>0.0</td>\n",
       "      <td>0.0</td>\n",
       "      <td>0.0</td>\n",
       "      <td>0.0</td>\n",
       "      <td>0.0</td>\n",
       "      <td>...</td>\n",
       "      <td>6.689593</td>\n",
       "      <td>4.625719</td>\n",
       "      <td>3.520927</td>\n",
       "      <td>1.967568</td>\n",
       "      <td>2.118097</td>\n",
       "      <td>0.463160</td>\n",
       "      <td>0.0</td>\n",
       "      <td>0.0</td>\n",
       "      <td>0.0</td>\n",
       "      <td>0.0</td>\n",
       "    </tr>\n",
       "    <tr>\n",
       "      <th>min</th>\n",
       "      <td>0.000000</td>\n",
       "      <td>0.0</td>\n",
       "      <td>0.0</td>\n",
       "      <td>0.0</td>\n",
       "      <td>0.0</td>\n",
       "      <td>0.0</td>\n",
       "      <td>0.0</td>\n",
       "      <td>0.0</td>\n",
       "      <td>0.0</td>\n",
       "      <td>0.0</td>\n",
       "      <td>...</td>\n",
       "      <td>0.000000</td>\n",
       "      <td>0.000000</td>\n",
       "      <td>0.000000</td>\n",
       "      <td>0.000000</td>\n",
       "      <td>0.000000</td>\n",
       "      <td>0.000000</td>\n",
       "      <td>0.0</td>\n",
       "      <td>0.0</td>\n",
       "      <td>0.0</td>\n",
       "      <td>0.0</td>\n",
       "    </tr>\n",
       "    <tr>\n",
       "      <th>25%</th>\n",
       "      <td>2.000000</td>\n",
       "      <td>0.0</td>\n",
       "      <td>0.0</td>\n",
       "      <td>0.0</td>\n",
       "      <td>0.0</td>\n",
       "      <td>0.0</td>\n",
       "      <td>0.0</td>\n",
       "      <td>0.0</td>\n",
       "      <td>0.0</td>\n",
       "      <td>0.0</td>\n",
       "      <td>...</td>\n",
       "      <td>0.000000</td>\n",
       "      <td>0.000000</td>\n",
       "      <td>0.000000</td>\n",
       "      <td>0.000000</td>\n",
       "      <td>0.000000</td>\n",
       "      <td>0.000000</td>\n",
       "      <td>0.0</td>\n",
       "      <td>0.0</td>\n",
       "      <td>0.0</td>\n",
       "      <td>0.0</td>\n",
       "    </tr>\n",
       "    <tr>\n",
       "      <th>50%</th>\n",
       "      <td>4.000000</td>\n",
       "      <td>0.0</td>\n",
       "      <td>0.0</td>\n",
       "      <td>0.0</td>\n",
       "      <td>0.0</td>\n",
       "      <td>0.0</td>\n",
       "      <td>0.0</td>\n",
       "      <td>0.0</td>\n",
       "      <td>0.0</td>\n",
       "      <td>0.0</td>\n",
       "      <td>...</td>\n",
       "      <td>0.000000</td>\n",
       "      <td>0.000000</td>\n",
       "      <td>0.000000</td>\n",
       "      <td>0.000000</td>\n",
       "      <td>0.000000</td>\n",
       "      <td>0.000000</td>\n",
       "      <td>0.0</td>\n",
       "      <td>0.0</td>\n",
       "      <td>0.0</td>\n",
       "      <td>0.0</td>\n",
       "    </tr>\n",
       "    <tr>\n",
       "      <th>75%</th>\n",
       "      <td>7.000000</td>\n",
       "      <td>0.0</td>\n",
       "      <td>0.0</td>\n",
       "      <td>0.0</td>\n",
       "      <td>0.0</td>\n",
       "      <td>0.0</td>\n",
       "      <td>0.0</td>\n",
       "      <td>0.0</td>\n",
       "      <td>0.0</td>\n",
       "      <td>0.0</td>\n",
       "      <td>...</td>\n",
       "      <td>0.000000</td>\n",
       "      <td>0.000000</td>\n",
       "      <td>0.000000</td>\n",
       "      <td>0.000000</td>\n",
       "      <td>0.000000</td>\n",
       "      <td>0.000000</td>\n",
       "      <td>0.0</td>\n",
       "      <td>0.0</td>\n",
       "      <td>0.0</td>\n",
       "      <td>0.0</td>\n",
       "    </tr>\n",
       "    <tr>\n",
       "      <th>max</th>\n",
       "      <td>9.000000</td>\n",
       "      <td>0.0</td>\n",
       "      <td>0.0</td>\n",
       "      <td>0.0</td>\n",
       "      <td>0.0</td>\n",
       "      <td>0.0</td>\n",
       "      <td>0.0</td>\n",
       "      <td>0.0</td>\n",
       "      <td>0.0</td>\n",
       "      <td>0.0</td>\n",
       "      <td>...</td>\n",
       "      <td>254.000000</td>\n",
       "      <td>254.000000</td>\n",
       "      <td>253.000000</td>\n",
       "      <td>253.000000</td>\n",
       "      <td>254.000000</td>\n",
       "      <td>62.000000</td>\n",
       "      <td>0.0</td>\n",
       "      <td>0.0</td>\n",
       "      <td>0.0</td>\n",
       "      <td>0.0</td>\n",
       "    </tr>\n",
       "  </tbody>\n",
       "</table>\n",
       "<p>8 rows × 785 columns</p>\n",
       "</div>"
      ],
      "text/plain": [
       "              label   pixel0   pixel1   pixel2   pixel3   pixel4   pixel5  \\\n",
       "count  33600.000000  33600.0  33600.0  33600.0  33600.0  33600.0  33600.0   \n",
       "mean       4.455893      0.0      0.0      0.0      0.0      0.0      0.0   \n",
       "std        2.888117      0.0      0.0      0.0      0.0      0.0      0.0   \n",
       "min        0.000000      0.0      0.0      0.0      0.0      0.0      0.0   \n",
       "25%        2.000000      0.0      0.0      0.0      0.0      0.0      0.0   \n",
       "50%        4.000000      0.0      0.0      0.0      0.0      0.0      0.0   \n",
       "75%        7.000000      0.0      0.0      0.0      0.0      0.0      0.0   \n",
       "max        9.000000      0.0      0.0      0.0      0.0      0.0      0.0   \n",
       "\n",
       "        pixel6   pixel7   pixel8  ...      pixel774      pixel775  \\\n",
       "count  33600.0  33600.0  33600.0  ...  33600.000000  33600.000000   \n",
       "mean       0.0      0.0      0.0  ...      0.232589      0.123899   \n",
       "std        0.0      0.0      0.0  ...      6.689593      4.625719   \n",
       "min        0.0      0.0      0.0  ...      0.000000      0.000000   \n",
       "25%        0.0      0.0      0.0  ...      0.000000      0.000000   \n",
       "50%        0.0      0.0      0.0  ...      0.000000      0.000000   \n",
       "75%        0.0      0.0      0.0  ...      0.000000      0.000000   \n",
       "max        0.0      0.0      0.0  ...    254.000000    254.000000   \n",
       "\n",
       "           pixel776      pixel777      pixel778      pixel779  pixel780  \\\n",
       "count  33600.000000  33600.000000  33600.000000  33600.000000   33600.0   \n",
       "mean       0.066042      0.025238      0.021548      0.003571       0.0   \n",
       "std        3.520927      1.967568      2.118097      0.463160       0.0   \n",
       "min        0.000000      0.000000      0.000000      0.000000       0.0   \n",
       "25%        0.000000      0.000000      0.000000      0.000000       0.0   \n",
       "50%        0.000000      0.000000      0.000000      0.000000       0.0   \n",
       "75%        0.000000      0.000000      0.000000      0.000000       0.0   \n",
       "max      253.000000    253.000000    254.000000     62.000000       0.0   \n",
       "\n",
       "       pixel781  pixel782  pixel783  \n",
       "count   33600.0   33600.0   33600.0  \n",
       "mean        0.0       0.0       0.0  \n",
       "std         0.0       0.0       0.0  \n",
       "min         0.0       0.0       0.0  \n",
       "25%         0.0       0.0       0.0  \n",
       "50%         0.0       0.0       0.0  \n",
       "75%         0.0       0.0       0.0  \n",
       "max         0.0       0.0       0.0  \n",
       "\n",
       "[8 rows x 785 columns]"
      ]
     },
     "execution_count": 83,
     "metadata": {},
     "output_type": "execute_result"
    }
   ],
   "source": [
    "train_data.describe()"
   ]
  },
  {
   "cell_type": "code",
   "execution_count": null,
   "id": "1484c9da",
   "metadata": {},
   "outputs": [
    {
     "data": {
      "image/png": "[encoded data removed]",
      "text/plain": [
       "<Figure size 640x480 with 1 Axes>"
      ]
     },
     "metadata": {},
     "output_type": "display_data"
    }
   ],
   "source": [
    "# Displaying the first image\n",
    "first_image = train_data.iloc[0,1:].values.reshape(28, 28) \n",
    "plt.imshow(first_image, cmap='gray') \n",
    "plt.title(\n",
    "    f'Image Label: {train_data.iloc[0,0]}', fontsize=20\n",
    ")  \n",
    "plt.axis('off') \n",
    "plt.show()"
   ]
  },
  {
   "cell_type": "markdown",
   "id": "b01fdece",
   "metadata": {},
   "source": [
    "In the histogram below we can see a rougly even distribution of data across classes."
   ]
  },
  {
   "cell_type": "code",
   "execution_count": 58,
   "id": "9b9978f9",
   "metadata": {},
   "outputs": [
    {
     "data": {
      "image/png": "[encoded data removed]",
      "text/plain": [
       "<Figure size 1000x600 with 1 Axes>"
      ]
     },
     "metadata": {},
     "output_type": "display_data"
    }
   ],
   "source": [
    "# Plotting the histogram\n",
    "plt.figure(figsize=(10, 6))\n",
    "counts, bins, bars = plt.hist(\n",
    "    train_data['label'], bins=10, edgecolor='black', rwidth=0.8\n",
    ")\n",
    "plt.title('Distribution of Images per Label', fontsize=20)\n",
    "plt.xlabel('Label', fontsize=16)\n",
    "plt.ylabel('Number of Images', fontsize=16)\n",
    "plt.xticks(\n",
    "    bins[:-1] + (bins[1] - bins[0]) / 2,\n",
    "    labels=range(10),\n",
    ")\n",
    "plt.show()"
   ]
  },
  {
   "cell_type": "code",
   "execution_count": 15,
   "id": "d2a2c253",
   "metadata": {},
   "outputs": [
    {
     "name": "stdout",
     "output_type": "stream",
     "text": [
      "There are 0 missing values in training data.\n"
     ]
    }
   ],
   "source": [
    "print('There are', train_data.isna().sum().sum(), 'missing values in training data.')"
   ]
  },
  {
   "cell_type": "code",
   "execution_count": 188,
   "id": "c97ae02b",
   "metadata": {},
   "outputs": [
    {
     "data": {
      "image/png": "[encoded data removed]",
      "text/plain": [
       "<Figure size 640x480 with 1 Axes>"
      ]
     },
     "metadata": {},
     "output_type": "display_data"
    }
   ],
   "source": [
    "image_data = np.array(range(256))\n",
    "image = image_data.reshape(16, 16)\n",
    "\n",
    "plt.imshow(image, cmap='gray') \n",
    "plt.title('Pixel Values from 0 to 255', fontsize=20)\n",
    "plt.axis('off')\n",
    "plt.show()"
   ]
  },
  {
   "cell_type": "markdown",
   "id": "d51404a5",
   "metadata": {},
   "source": [
    "Looking at the distribution of pixel values in the first figures below, we can see that highest frequency value 0 (black pixel). If we exclude 0 (as in the second figure below) we can see a concentration of pixels > 250 (light grey to white). Both of these make sense when we think about what MNIST images look like."
   ]
  },
  {
   "cell_type": "code",
   "execution_count": 96,
   "id": "5ee0aa42",
   "metadata": {},
   "outputs": [
    {
     "data": {
      "image/png": "[encoded data removed]",
      "text/plain": [
       "<Figure size 1200x600 with 1 Axes>"
      ]
     },
     "metadata": {},
     "output_type": "display_data"
    }
   ],
   "source": [
    "pixel_values = train_data.drop('label', axis=1).values.flatten()\n",
    "\n",
    "# Plotting the distribution of pixel values\n",
    "plt.figure(figsize=(12, 6))\n",
    "plt.hist(pixel_values, bins=255, color='gray')\n",
    "plt.title('Distribution of Pixel Values Across Training Data', fontsize=20)\n",
    "plt.xlabel('Pixel Value', fontsize=16)\n",
    "plt.ylabel('Frequency', fontsize=16)\n",
    "plt.show()"
   ]
  },
  {
   "cell_type": "code",
   "execution_count": 51,
   "id": "2af8e937",
   "metadata": {},
   "outputs": [
    {
     "data": {
      "image/png": "[encoded data removed]",
      "text/plain": [
       "<Figure size 1200x600 with 1 Axes>"
      ]
     },
     "metadata": {},
     "output_type": "display_data"
    }
   ],
   "source": [
    "# Flatten pixel values for the entire dataset\n",
    "pixel_values = train_data.drop('label', axis=1).values.flatten()\n",
    "pixel_values = pd.Series(pixel_values).value_counts()\n",
    "pixel_values = pixel_values.sort_index()\n",
    "plt.figure(figsize=(12, 6))\n",
    "plt.bar(pixel_values.index[1:], pixel_values[1:], color='gray')\n",
    "plt.title('Distribution of Pixel Values Across Training Data', fontsize=20)\n",
    "plt.xlabel('Pixel Value', fontsize=16)\n",
    "plt.ylabel('Frequency', fontsize=16)\n",
    "plt.show()"
   ]
  },
  {
   "cell_type": "markdown",
   "id": "dec96a87",
   "metadata": {},
   "source": [
    "# Preprocessing:\n",
    "---"
   ]
  },
  {
   "cell_type": "code",
   "execution_count": null,
   "id": "4e997aef",
   "metadata": {},
   "outputs": [],
   "source": [
    "# divide the data into features and labels\n",
    "x_train = train_data.drop('label', axis=1).values\n",
    "y_train = train_data['label'].values\n",
    "x_val = val_data.drop('label', axis=1).values\n",
    "y_val = val_data['label'].values\n",
    "x_test = x_test.values"
   ]
  },
  {
   "cell_type": "code",
   "execution_count": null,
   "id": "7d560895",
   "metadata": {},
   "outputs": [],
   "source": [
    "batch_size = 32\n",
    "\n",
    "# Convert data to PyTorch tensors\n",
    "x_train_tensor = torch.tensor(x_train, dtype=torch.float32).reshape(-1, 1, 28, 28)\n",
    "y_train_tensor = torch.tensor(y_train, dtype=torch.long)\n",
    "x_val_tensor = torch.tensor(x_val, dtype=torch.float32).reshape(-1, 1, 28, 28)\n",
    "y_val_tensor = torch.tensor(y_val, dtype=torch.long)\n",
    "x_test_tensor = torch.tensor(x_test, dtype=torch.float32).reshape(-1, 1, 28, 28)\n",
    "test_indices_tensor = torch.tensor(np.arange(len(x_test_tensor)), dtype=torch.long)\n",
    "\n",
    "# Create TensorDatasets\n",
    "train_dataset = TensorDataset(x_train_tensor, y_train_tensor)\n",
    "val_dataset = TensorDataset(x_val_tensor, y_val_tensor)\n",
    "test_dataset = TensorDataset(x_test_tensor, test_indices_tensor)\n",
    "\n",
    "# Create DataLoader instances\n",
    "train_loader = DataLoader(train_dataset, batch_size=batch_size, shuffle=True)\n",
    "val_loader = DataLoader(val_dataset, batch_size=batch_size, shuffle=False)\n",
    "test_loader = DataLoader(test_dataset, batch_size=batch_size, shuffle=False)"
   ]
  },
  {
   "cell_type": "markdown",
   "id": "ad398cf6",
   "metadata": {},
   "source": [
    "# Model 1:\n",
    "---"
   ]
  },
  {
   "cell_type": "code",
   "execution_count": 319,
   "id": "9744a280",
   "metadata": {},
   "outputs": [],
   "source": [
    "submission_filepath = 'programming_assignment_3_submissions/model_1_submission.csv'"
   ]
  },
  {
   "cell_type": "code",
   "execution_count": 287,
   "id": "e8cc2652",
   "metadata": {},
   "outputs": [
    {
     "name": "stdout",
     "output_type": "stream",
     "text": [
      "Training Accuracy: 100.00%\n",
      "Validation Accuracy: 96.29%\n"
     ]
    }
   ],
   "source": [
    "rf = RandomForestClassifier(n_estimators=100, random_state=42)\n",
    "rf.fit(x_train, y_train)\n",
    "print(f'Training Accuracy: {rf.score(x_train, y_train)*100:.2f}%')\n",
    "\n",
    "print(f'Validation Accuracy: {rf.score(x_val, y_val)*100:.2f}%')"
   ]
  },
  {
   "cell_type": "code",
   "execution_count": 320,
   "id": "69698c4a",
   "metadata": {},
   "outputs": [
    {
     "name": "stdout",
     "output_type": "stream",
     "text": [
      "   ImageId  Label\n",
      "0        1      2\n",
      "1        2      0\n",
      "2        3      9\n",
      "3        4      9\n",
      "4        5      3\n"
     ]
    }
   ],
   "source": [
    "test_preds = pd.DataFrame()\n",
    "test_preds['ImageId'] = np.arange(1, len(x_test_tensor)+1)\n",
    "test_preds['Label'] = rf.predict(x_test)\n",
    "print(test_preds.head())\n",
    "test_preds.to_csv(submission_filepath, index=False)"
   ]
  },
  {
   "attachments": {
    "image-2.png": {
     "image/png": "[encoded data removed]"
    }
   },
   "cell_type": "markdown",
   "id": "7e98a1a6",
   "metadata": {},
   "source": [
    "![image-2.png](attachment:image-2.png)"
   ]
  },
  {
   "cell_type": "markdown",
   "id": "b06c39c0",
   "metadata": {},
   "source": [
    "# Model 2:\n",
    "---"
   ]
  },
  {
   "cell_type": "markdown",
   "id": "9361adae",
   "metadata": {},
   "source": [
    "For my second model I'll try a CNN on a PCA transformation of the data."
   ]
  },
  {
   "cell_type": "code",
   "execution_count": 321,
   "id": "3939c6c6",
   "metadata": {},
   "outputs": [],
   "source": [
    "submission_filepath = 'programming_assignment_3_submissions/model_2_submission.csv'"
   ]
  },
  {
   "cell_type": "code",
   "execution_count": 295,
   "id": "24574359",
   "metadata": {},
   "outputs": [],
   "source": [
    "scaler = StandardScaler()\n",
    "x_train_scaled = scaler.fit_transform(x_train)\n",
    "x_val_scaled = scaler.transform(x_val)\n",
    "x_test_scaled = scaler.transform(x_test)"
   ]
  },
  {
   "cell_type": "code",
   "execution_count": null,
   "id": "fc8463c0",
   "metadata": {},
   "outputs": [],
   "source": [
    "pca = PCA()\n",
    "x_train_pca = pca.fit(x_train_scaled)"
   ]
  },
  {
   "cell_type": "code",
   "execution_count": null,
   "id": "0f972f90",
   "metadata": {},
   "outputs": [
    {
     "data": {
      "image/png": "[encoded data removed]",
      "text/plain": [
       "<Figure size 640x480 with 1 Axes>"
      ]
     },
     "metadata": {},
     "output_type": "display_data"
    }
   ],
   "source": [
    "plt.plot(np.cumsum(pca.explained_variance_ratio_))\n",
    "plt.xlabel('Number of of Components')\n",
    "plt.ylabel('Cumulative Explained Variance') \n",
    "plt.axhline(\n",
    "    y=0.95, color='r', linestyle='--', label=\"95% Explained Variance\"\n",
    ")\n",
    "plt.legend()\n",
    "plt.title('Scree Plot')\n",
    "plt.grid(True)\n",
    "plt.show()"
   ]
  },
  {
   "cell_type": "markdown",
   "id": "6c92b298",
   "metadata": {},
   "source": [
    "Based on the plot above, I will use ~300 components to maintain 95% of explained variance."
   ]
  },
  {
   "cell_type": "code",
   "execution_count": 306,
   "id": "ab17a05f",
   "metadata": {},
   "outputs": [],
   "source": [
    "pca = PCA(n_components=324)\n",
    "batch_size = 64\n",
    "x_train_pca = pca.fit_transform(x_train_scaled)\n",
    "x_val_pca = pca.transform(x_val_scaled)\n",
    "x_test_pca = pca.transform(x_test_scaled)\n",
    "\n",
    "x_train_pca_tensor = torch.tensor(x_train_pca, dtype=torch.float32).reshape(-1, 1, int(np.sqrt(x_train_pca.shape[1])), int(np.sqrt(x_train_pca.shape[1])))\n",
    "x_val_pca_tensor = torch.tensor(x_val_pca, dtype=torch.float32).reshape(-1, 1, int(np.sqrt(x_val_pca.shape[1])), int(np.sqrt(x_val_pca.shape[1])))\n",
    "x_test_pca_tensor = torch.tensor(x_test_pca, dtype=torch.float32).reshape(-1, 1, int(np.sqrt(x_test_pca.shape[1])), int(np.sqrt(x_test_pca.shape[1])))\n",
    "\n",
    "train_dataset_pca = TensorDataset(x_train_pca_tensor, y_train_tensor)\n",
    "val_dataset_pca = TensorDataset(x_val_pca_tensor, y_val_tensor)\n",
    "test_dataset_pca = TensorDataset(x_test_pca_tensor, test_indices_tensor)\n",
    "\n",
    "train_loader_pca = DataLoader(train_dataset_pca, batch_size=batch_size, shuffle=True)\n",
    "val_loader_pca = DataLoader(val_dataset_pca, batch_size=batch_size, shuffle=False)\n",
    "test_loader_pca = DataLoader(test_dataset_pca, batch_size=batch_size, shuffle=False)"
   ]
  },
  {
   "cell_type": "code",
   "execution_count": null,
   "id": "9026a0e0",
   "metadata": {},
   "outputs": [],
   "source": [
    "def train_model(model, train_loader, val_loader, criterion, optimizer, epochs): \n",
    "    # Training loop\n",
    "    for epoch in range(epochs):\n",
    "        model.train()\n",
    "        running_loss = 0.0\n",
    "        for i, (inputs, labels) in enumerate(train_loader):\n",
    "            # Zero the parameter gradients\n",
    "            optimizer.zero_grad()\n",
    "\n",
    "            # Forward pass\n",
    "            outputs = model(inputs)\n",
    "            loss = criterion(outputs, labels)\n",
    "\n",
    "            # Backward and optimize\n",
    "            loss.backward()\n",
    "            optimizer.step()\n",
    "\n",
    "            # Print statistics\n",
    "            running_loss += loss.item()\n",
    "            if (i + 1) % 100 == 0:\n",
    "                print(\n",
    "                    f'Epoch [{epoch+1}/{epochs}], Step [{i+1}/{len(train_loader)}], Loss: {running_loss/100:.4f}'\n",
    "                )\n",
    "                running_loss = 0.0\n",
    "\n",
    "        # Validation step\n",
    "        model.eval()  \n",
    "        correct = 0\n",
    "        total = 0\n",
    "        with torch.no_grad():  # Disable gradient calculation for validation\n",
    "            for inputs, labels in val_loader:\n",
    "                outputs = model(inputs)\n",
    "                _, predicted = torch.max(outputs.data, 1)\n",
    "                total += labels.size(0)\n",
    "                correct += (predicted == labels).sum().item()\n",
    "\n",
    "        print(\n",
    "            f'Epoch [{epoch+1}/{epochs}], Validation Accuracy: {100 * correct / total:.2f}%'\n",
    "        )\n",
    "\n",
    "    print('Finished Training')"
   ]
  },
  {
   "cell_type": "code",
   "execution_count": 297,
   "id": "bb820842",
   "metadata": {},
   "outputs": [],
   "source": [
    "class CNN(nn.Module):\n",
    "    def __init__(self):\n",
    "        super(CNN, self).__init__()\n",
    "        self.classifier = nn.Sequential(\n",
    "            nn.Conv2d(1, 32, kernel_size=3, padding=1), \n",
    "            nn.ReLU(),\n",
    "            nn.MaxPool2d(2, 2),  \n",
    "            nn.Conv2d(32, 64, kernel_size=3, padding=1), \n",
    "            nn.ReLU(),\n",
    "            nn.MaxPool2d(2, 2),  \n",
    "            nn.Flatten(),\n",
    "            nn.Linear(64 * 4 * 4, 128),\n",
    "            nn.ReLU(),\n",
    "            nn.Linear(128, 10) \n",
    "        )\n",
    "\n",
    "    def forward(self, x):\n",
    "        x = self.classifier(x)\n",
    "        return x"
   ]
  },
  {
   "cell_type": "code",
   "execution_count": 312,
   "id": "5c5fe348",
   "metadata": {},
   "outputs": [
    {
     "name": "stdout",
     "output_type": "stream",
     "text": [
      "Epoch [1/10], Step [100/525], Loss: 1.6045\n",
      "Epoch [1/10], Step [200/525], Loss: 0.7538\n",
      "Epoch [1/10], Step [300/525], Loss: 0.4979\n",
      "Epoch [1/10], Step [400/525], Loss: 0.4043\n",
      "Epoch [1/10], Step [500/525], Loss: 0.3781\n",
      "Epoch [1/10], Validation Accuracy: 91.30%\n",
      "Epoch [2/10], Step [100/525], Loss: 0.2983\n",
      "Epoch [2/10], Step [200/525], Loss: 0.2623\n",
      "Epoch [2/10], Step [300/525], Loss: 0.2435\n",
      "Epoch [2/10], Step [400/525], Loss: 0.2356\n",
      "Epoch [2/10], Step [500/525], Loss: 0.2786\n",
      "Epoch [2/10], Validation Accuracy: 92.75%\n",
      "Epoch [3/10], Step [100/525], Loss: 0.2053\n",
      "Epoch [3/10], Step [200/525], Loss: 0.1887\n",
      "Epoch [3/10], Step [300/525], Loss: 0.1831\n",
      "Epoch [3/10], Step [400/525], Loss: 0.1996\n",
      "Epoch [3/10], Step [500/525], Loss: 0.1922\n",
      "Epoch [3/10], Validation Accuracy: 93.82%\n",
      "Epoch [4/10], Step [100/525], Loss: 0.1604\n",
      "Epoch [4/10], Step [200/525], Loss: 0.1685\n",
      "Epoch [4/10], Step [300/525], Loss: 0.1669\n",
      "Epoch [4/10], Step [400/525], Loss: 0.1568\n",
      "Epoch [4/10], Step [500/525], Loss: 0.1591\n",
      "Epoch [4/10], Validation Accuracy: 94.64%\n",
      "Epoch [5/10], Step [100/525], Loss: 0.1170\n",
      "Epoch [5/10], Step [200/525], Loss: 0.1319\n",
      "Epoch [5/10], Step [300/525], Loss: 0.1380\n",
      "Epoch [5/10], Step [400/525], Loss: 0.1553\n",
      "Epoch [5/10], Step [500/525], Loss: 0.1306\n",
      "Epoch [5/10], Validation Accuracy: 93.65%\n",
      "Epoch [6/10], Step [100/525], Loss: 0.1005\n",
      "Epoch [6/10], Step [200/525], Loss: 0.1165\n",
      "Epoch [6/10], Step [300/525], Loss: 0.0949\n",
      "Epoch [6/10], Step [400/525], Loss: 0.1165\n",
      "Epoch [6/10], Step [500/525], Loss: 0.1224\n",
      "Epoch [6/10], Validation Accuracy: 94.51%\n",
      "Epoch [7/10], Step [100/525], Loss: 0.0816\n",
      "Epoch [7/10], Step [200/525], Loss: 0.0787\n",
      "Epoch [7/10], Step [300/525], Loss: 0.1087\n",
      "Epoch [7/10], Step [400/525], Loss: 0.1002\n",
      "Epoch [7/10], Step [500/525], Loss: 0.1209\n",
      "Epoch [7/10], Validation Accuracy: 94.63%\n",
      "Epoch [8/10], Step [100/525], Loss: 0.0677\n",
      "Epoch [8/10], Step [200/525], Loss: 0.0723\n",
      "Epoch [8/10], Step [300/525], Loss: 0.0938\n",
      "Epoch [8/10], Step [400/525], Loss: 0.0897\n",
      "Epoch [8/10], Step [500/525], Loss: 0.0862\n",
      "Epoch [8/10], Validation Accuracy: 94.73%\n",
      "Epoch [9/10], Step [100/525], Loss: 0.0885\n",
      "Epoch [9/10], Step [200/525], Loss: 0.0662\n",
      "Epoch [9/10], Step [300/525], Loss: 0.0761\n",
      "Epoch [9/10], Step [400/525], Loss: 0.0740\n",
      "Epoch [9/10], Step [500/525], Loss: 0.0777\n",
      "Epoch [9/10], Validation Accuracy: 94.29%\n",
      "Epoch [10/10], Step [100/525], Loss: 0.0569\n",
      "Epoch [10/10], Step [200/525], Loss: 0.0547\n",
      "Epoch [10/10], Step [300/525], Loss: 0.0622\n",
      "Epoch [10/10], Step [400/525], Loss: 0.0605\n",
      "Epoch [10/10], Step [500/525], Loss: 0.0519\n",
      "Epoch [10/10], Validation Accuracy: 94.74%\n",
      "Finished Training\n"
     ]
    }
   ],
   "source": [
    "epochs = 10\n",
    "model = CNN()\n",
    "\n",
    "# Define loss function and optimizer\n",
    "criterion = nn.CrossEntropyLoss()\n",
    "optimizer = optim.Adam(model.parameters(), lr=0.001)\n",
    "\n",
    "train_model(\n",
    "    model, train_loader_pca, val_loader_pca, \n",
    "    criterion, optimizer, epochs\n",
    ")"
   ]
  },
  {
   "cell_type": "code",
   "execution_count": null,
   "id": "76816470",
   "metadata": {},
   "outputs": [
    {
     "name": "stdout",
     "output_type": "stream",
     "text": [
      "Submission file created: programming_assignment_3_submissions/model_2_submission.csv\n"
     ]
    }
   ],
   "source": [
    "# Create test predictions for submission\n",
    "model.eval() \n",
    "predictions = []\n",
    "indices = []\n",
    "with torch.no_grad():\n",
    "    for i, (data, index) in enumerate(test_loader_pca):\n",
    "        outputs = model(data)\n",
    "        _, predicted = torch.max(outputs.data, 1)\n",
    "        predictions.extend(predicted.tolist())\n",
    "\n",
    "submission_df = pd.DataFrame({'ImageId': range(1, len(predictions) + 1), 'Label': predictions})\n",
    "submission_df.to_csv(submission_filepath, index=False)\n",
    "print(f'Submission file created: {submission_filepath}')"
   ]
  },
  {
   "cell_type": "markdown",
   "id": "af905076",
   "metadata": {},
   "source": [
    "This second model took longer to train than the first and model performance was slightly worse. Since this model didn't perform as well as the last, GitHub doesn't place the submission on the leaderboard so I included a screenshot showing the submission. Since it doesn't include my team name I took the screenshot so that it also includes my previous submission (to show it's mine)."
   ]
  },
  {
   "attachments": {
    "image.png": {
     "image/png": "[encoded data removed]"
    }
   },
   "cell_type": "markdown",
   "id": "74a28bb2",
   "metadata": {},
   "source": [
    "![image.png](attachment:image.png)"
   ]
  },
  {
   "cell_type": "markdown",
   "id": "8490e2f8",
   "metadata": {},
   "source": [
    "# Model 3:\n",
    "---"
   ]
  },
  {
   "cell_type": "markdown",
   "id": "28bbc613",
   "metadata": {},
   "source": [
    "I'll base my last model on the [PyTorch CNN tutorial](https://pytorch.org/tutorials/beginner/blitz/cifar10_tutorial.html). This model won't use PCA and will use SGD as an optimizer instead of Adam. The model will have slightly different architecture to account for the different shape of the data."
   ]
  },
  {
   "cell_type": "code",
   "execution_count": 281,
   "id": "8098e521",
   "metadata": {},
   "outputs": [],
   "source": [
    "submission_filepath = 'programming_assignment_3_submissions/model_3_submission.csv'"
   ]
  },
  {
   "cell_type": "code",
   "execution_count": 216,
   "id": "8295e714",
   "metadata": {},
   "outputs": [],
   "source": [
    "epochs = 10"
   ]
  },
  {
   "cell_type": "code",
   "execution_count": 282,
   "id": "761e8d71",
   "metadata": {},
   "outputs": [],
   "source": [
    "class CNN(nn.Module):\n",
    "    def __init__(self):\n",
    "        super(CNN, self).__init__()\n",
    "        self.classifier = nn.Sequential(\n",
    "            nn.Conv2d(1,6,5),\n",
    "            nn.ReLU(),\n",
    "            nn.MaxPool2d(2,2),\n",
    "            nn.Conv2d(6,16,5),\n",
    "            nn.ReLU(),\n",
    "            nn.MaxPool2d(2,2),\n",
    "            nn.Flatten(),\n",
    "            nn.Linear(16 * 4 * 4, 120),\n",
    "            nn.ReLU(),\n",
    "            nn.Linear(120, 84),\n",
    "            nn.ReLU(),\n",
    "            nn.Linear(84, 10),\n",
    "        )\n",
    "\n",
    "    def forward(self, x):\n",
    "        x = self.classifier(x)\n",
    "        return x"
   ]
  },
  {
   "cell_type": "code",
   "execution_count": 283,
   "id": "c2a4246f",
   "metadata": {},
   "outputs": [
    {
     "name": "stdout",
     "output_type": "stream",
     "text": [
      "Epoch [1/10], Step [100/1050], Loss: 0.9111\n",
      "Epoch [1/10], Step [200/1050], Loss: 0.2843\n",
      "Epoch [1/10], Step [300/1050], Loss: 0.2082\n",
      "Epoch [1/10], Step [400/1050], Loss: 0.1763\n",
      "Epoch [1/10], Step [500/1050], Loss: 0.1688\n",
      "Epoch [1/10], Step [600/1050], Loss: 0.1409\n",
      "Epoch [1/10], Step [700/1050], Loss: 0.1219\n",
      "Epoch [1/10], Step [800/1050], Loss: 0.1101\n",
      "Epoch [1/10], Step [900/1050], Loss: 0.1025\n",
      "Epoch [1/10], Step [1000/1050], Loss: 0.1031\n",
      "Epoch [1/10], Validation Accuracy: 96.05%\n",
      "Epoch [2/10], Step [100/1050], Loss: 0.0787\n",
      "Epoch [2/10], Step [200/1050], Loss: 0.1050\n",
      "Epoch [2/10], Step [300/1050], Loss: 0.0780\n",
      "Epoch [2/10], Step [400/1050], Loss: 0.0936\n",
      "Epoch [2/10], Step [500/1050], Loss: 0.0654\n",
      "Epoch [2/10], Step [600/1050], Loss: 0.0726\n",
      "Epoch [2/10], Step [700/1050], Loss: 0.0664\n",
      "Epoch [2/10], Step [800/1050], Loss: 0.0883\n",
      "Epoch [2/10], Step [900/1050], Loss: 0.0733\n",
      "Epoch [2/10], Step [1000/1050], Loss: 0.0680\n",
      "Epoch [2/10], Validation Accuracy: 97.50%\n",
      "Epoch [3/10], Step [100/1050], Loss: 0.0605\n",
      "Epoch [3/10], Step [200/1050], Loss: 0.0542\n",
      "Epoch [3/10], Step [300/1050], Loss: 0.0544\n",
      "Epoch [3/10], Step [400/1050], Loss: 0.0556\n",
      "Epoch [3/10], Step [500/1050], Loss: 0.0548\n",
      "Epoch [3/10], Step [600/1050], Loss: 0.0573\n",
      "Epoch [3/10], Step [700/1050], Loss: 0.0479\n",
      "Epoch [3/10], Step [800/1050], Loss: 0.0670\n",
      "Epoch [3/10], Step [900/1050], Loss: 0.0534\n",
      "Epoch [3/10], Step [1000/1050], Loss: 0.0446\n",
      "Epoch [3/10], Validation Accuracy: 97.64%\n",
      "Epoch [4/10], Step [100/1050], Loss: 0.0406\n",
      "Epoch [4/10], Step [200/1050], Loss: 0.0434\n",
      "Epoch [4/10], Step [300/1050], Loss: 0.0476\n",
      "Epoch [4/10], Step [400/1050], Loss: 0.0418\n",
      "Epoch [4/10], Step [500/1050], Loss: 0.0419\n",
      "Epoch [4/10], Step [600/1050], Loss: 0.0442\n",
      "Epoch [4/10], Step [700/1050], Loss: 0.0462\n",
      "Epoch [4/10], Step [800/1050], Loss: 0.0378\n",
      "Epoch [4/10], Step [900/1050], Loss: 0.0402\n",
      "Epoch [4/10], Step [1000/1050], Loss: 0.0351\n",
      "Epoch [4/10], Validation Accuracy: 98.10%\n",
      "Epoch [5/10], Step [100/1050], Loss: 0.0326\n",
      "Epoch [5/10], Step [200/1050], Loss: 0.0339\n",
      "Epoch [5/10], Step [300/1050], Loss: 0.0245\n",
      "Epoch [5/10], Step [400/1050], Loss: 0.0231\n",
      "Epoch [5/10], Step [500/1050], Loss: 0.0264\n",
      "Epoch [5/10], Step [600/1050], Loss: 0.0346\n",
      "Epoch [5/10], Step [700/1050], Loss: 0.0334\n",
      "Epoch [5/10], Step [800/1050], Loss: 0.0360\n",
      "Epoch [5/10], Step [900/1050], Loss: 0.0509\n",
      "Epoch [5/10], Step [1000/1050], Loss: 0.0414\n",
      "Epoch [5/10], Validation Accuracy: 98.01%\n",
      "Epoch [6/10], Step [100/1050], Loss: 0.0243\n",
      "Epoch [6/10], Step [200/1050], Loss: 0.0303\n",
      "Epoch [6/10], Step [300/1050], Loss: 0.0201\n",
      "Epoch [6/10], Step [400/1050], Loss: 0.0236\n",
      "Epoch [6/10], Step [500/1050], Loss: 0.0225\n",
      "Epoch [6/10], Step [600/1050], Loss: 0.0286\n",
      "Epoch [6/10], Step [700/1050], Loss: 0.0364\n",
      "Epoch [6/10], Step [800/1050], Loss: 0.0314\n",
      "Epoch [6/10], Step [900/1050], Loss: 0.0239\n",
      "Epoch [6/10], Step [1000/1050], Loss: 0.0366\n",
      "Epoch [6/10], Validation Accuracy: 98.15%\n",
      "Epoch [7/10], Step [100/1050], Loss: 0.0209\n",
      "Epoch [7/10], Step [200/1050], Loss: 0.0207\n",
      "Epoch [7/10], Step [300/1050], Loss: 0.0201\n",
      "Epoch [7/10], Step [400/1050], Loss: 0.0244\n",
      "Epoch [7/10], Step [500/1050], Loss: 0.0342\n",
      "Epoch [7/10], Step [600/1050], Loss: 0.0261\n",
      "Epoch [7/10], Step [700/1050], Loss: 0.0234\n",
      "Epoch [7/10], Step [800/1050], Loss: 0.0289\n",
      "Epoch [7/10], Step [900/1050], Loss: 0.0234\n",
      "Epoch [7/10], Step [1000/1050], Loss: 0.0179\n",
      "Epoch [7/10], Validation Accuracy: 98.31%\n",
      "Epoch [8/10], Step [100/1050], Loss: 0.0165\n",
      "Epoch [8/10], Step [200/1050], Loss: 0.0127\n",
      "Epoch [8/10], Step [300/1050], Loss: 0.0167\n",
      "Epoch [8/10], Step [400/1050], Loss: 0.0117\n",
      "Epoch [8/10], Step [500/1050], Loss: 0.0124\n",
      "Epoch [8/10], Step [600/1050], Loss: 0.0251\n",
      "Epoch [8/10], Step [700/1050], Loss: 0.0234\n",
      "Epoch [8/10], Step [800/1050], Loss: 0.0221\n",
      "Epoch [8/10], Step [900/1050], Loss: 0.0225\n",
      "Epoch [8/10], Step [1000/1050], Loss: 0.0228\n",
      "Epoch [8/10], Validation Accuracy: 98.17%\n",
      "Epoch [9/10], Step [100/1050], Loss: 0.0121\n",
      "Epoch [9/10], Step [200/1050], Loss: 0.0158\n",
      "Epoch [9/10], Step [300/1050], Loss: 0.0115\n",
      "Epoch [9/10], Step [400/1050], Loss: 0.0149\n",
      "Epoch [9/10], Step [500/1050], Loss: 0.0107\n",
      "Epoch [9/10], Step [600/1050], Loss: 0.0099\n",
      "Epoch [9/10], Step [700/1050], Loss: 0.0096\n",
      "Epoch [9/10], Step [800/1050], Loss: 0.0161\n",
      "Epoch [9/10], Step [900/1050], Loss: 0.0202\n",
      "Epoch [9/10], Step [1000/1050], Loss: 0.0164\n",
      "Epoch [9/10], Validation Accuracy: 97.73%\n",
      "Epoch [10/10], Step [100/1050], Loss: 0.0123\n",
      "Epoch [10/10], Step [200/1050], Loss: 0.0154\n",
      "Epoch [10/10], Step [300/1050], Loss: 0.0235\n",
      "Epoch [10/10], Step [400/1050], Loss: 0.0085\n",
      "Epoch [10/10], Step [500/1050], Loss: 0.0121\n",
      "Epoch [10/10], Step [600/1050], Loss: 0.0104\n",
      "Epoch [10/10], Step [700/1050], Loss: 0.0143\n",
      "Epoch [10/10], Step [800/1050], Loss: 0.0141\n",
      "Epoch [10/10], Step [900/1050], Loss: 0.0118\n",
      "Epoch [10/10], Step [1000/1050], Loss: 0.0129\n",
      "Epoch [10/10], Validation Accuracy: 98.51%\n",
      "Finished Training\n"
     ]
    }
   ],
   "source": [
    "model = CNN()\n",
    "\n",
    "# Define loss function and optimizer\n",
    "criterion = nn.CrossEntropyLoss()\n",
    "optimizer = optim.SGD(model.parameters(), lr=0.001, momentum=0.9)\n",
    "\n",
    "train_model(\n",
    "    model, train_loader, val_loader, \n",
    "    criterion, optimizer, epochs\n",
    ")"
   ]
  },
  {
   "cell_type": "code",
   "execution_count": 284,
   "id": "36526ba6",
   "metadata": {},
   "outputs": [
    {
     "name": "stdout",
     "output_type": "stream",
     "text": [
      "Submission file created: programming_assignment_3_submissions/model_3_submission.csv\n"
     ]
    }
   ],
   "source": [
    "# Create test predictions for submission\n",
    "model.eval() \n",
    "predictions = []\n",
    "indices = []\n",
    "with torch.no_grad():\n",
    "    for i, (data, index) in enumerate(test_loader):\n",
    "        outputs = model(data)\n",
    "        _, predicted = torch.max(outputs.data, 1)\n",
    "        predictions.extend(predicted.tolist())\n",
    "\n",
    "submission_df = pd.DataFrame({'ImageId': range(1, len(predictions) + 1), 'Label': predictions})\n",
    "submission_df.to_csv(submission_filepath, index=False)\n",
    "print(f'Submission file created: {submission_filepath}')"
   ]
  },
  {
   "cell_type": "markdown",
   "id": "708be24a",
   "metadata": {},
   "source": [
    "This model performed the best of the three I created. "
   ]
  },
  {
   "attachments": {
    "image.png": {
     "image/png": "[encoded data removed]"
    }
   },
   "cell_type": "markdown",
   "id": "dbc69e66",
   "metadata": {},
   "source": [
    "![image.png](attachment:image.png)"
   ]
  }
 ],
 "metadata": {
  "kernelspec": {
   "display_name": "data_mining_venv_",
   "language": "python",
   "name": "python3"
  },
  "language_info": {
   "codemirror_mode": {
    "name": "ipython",
    "version": 3
   },
   "file_extension": ".py",
   "mimetype": "text/x-python",
   "name": "python",
   "nbconvert_exporter": "python",
   "pygments_lexer": "ipython3",
   "version": "3.10.0"
  }
 },
 "nbformat": 4,
 "nbformat_minor": 5
}
