{
  "nbformat": 4,
  "nbformat_minor": 0,
  "metadata": {
    "kernelspec": {
      "display_name": "Python 3",
      "language": "python",
      "name": "python3"
    },
    "language_info": {
      "codemirror_mode": {
        "name": "ipython",
        "version": 3
      },
      "file_extension": ".py",
      "mimetype": "text/x-python",
      "name": "python",
      "nbconvert_exporter": "python",
      "pygments_lexer": "ipython3",
      "version": "3.7.0"
    },
    "colab": {
      "name": "Copy of Day 80 Lecture 1 Assignment.ipynb",
      "provenance": [],
      "collapsed_sections": [],
      "include_colab_link": true
    },
    "accelerator": "GPU"
  },
  "cells": [
    {
      "cell_type": "markdown",
      "metadata": {
        "id": "view-in-github",
        "colab_type": "text"
      },
      "source": [
        "<a href=\"https://colab.research.google.com/github/CateMerfeld/class_work/blob/main/Copy_of_Day_80_Lecture_1_Assignment.ipynb\" target=\"_parent\"><img src=\"https://colab.research.google.com/assets/colab-badge.svg\" alt=\"Open In Colab\"/></a>"
      ]
    },
    {
      "cell_type": "markdown",
      "metadata": {
        "id": "s3b2_cqaKWkw"
      },
      "source": [
        "## Long Short-Term Memory \n",
        "\n",
        "In this assignment, we will learn about LSTM models. We will create an LSTM model for time series prediction."
      ]
    },
    {
      "cell_type": "code",
      "metadata": {
        "id": "k0a6OKp4KWkz"
      },
      "source": [
        "import numpy as np\n",
        "import os\n",
        "import pandas as pd\n",
        "\n",
        "from tensorflow.keras.models import Sequential\n",
        "from tensorflow.keras.layers import Dense, LSTM, Dropout, Flatten\n",
        "from tensorflow.keras.utils import to_categorical"
      ],
      "execution_count": 1,
      "outputs": []
    },
    {
      "cell_type": "code",
      "metadata": {
        "colab": {
          "base_uri": "https://localhost:8080/"
        },
        "id": "MLLVAKxXwlDG",
        "outputId": "d5b3933d-64c3-42fa-a37a-2421981b2f59"
      },
      "source": [
        "from google.colab import drive\n",
        "drive.mount('/content/drive')"
      ],
      "execution_count": 2,
      "outputs": [
        {
          "output_type": "stream",
          "text": [
            "Mounted at /content/drive\n"
          ],
          "name": "stdout"
        }
      ]
    },
    {
      "cell_type": "markdown",
      "metadata": {
        "id": "UY5p0gThKWk1"
      },
      "source": [
        "Below is a function for loading time series data collected by sensors. There are 9 different files, We have data about body acceleration, body gyro, and total acceleration for the x, y, and z axis"
      ]
    },
    {
      "cell_type": "code",
      "metadata": {
        "id": "kAhD_8wwKWk2"
      },
      "source": [
        "def load_func(path, file_ind=False):\n",
        "    data_list = []\n",
        "    if file_ind:\n",
        "        filenames = [path]\n",
        "    else:\n",
        "        files = os.listdir(path)\n",
        "        filenames = [path + '/' + f for f in files]\n",
        "    for f in filenames:\n",
        "        dataframe = pd.read_csv(f, header=None, delim_whitespace=True)\n",
        "        data_list.append(dataframe.values)\n",
        "    if len(data_list) > 1:\n",
        "        return np.dstack(data_list)\n",
        "    else:\n",
        "        return data_list[0]"
      ],
      "execution_count": 3,
      "outputs": []
    },
    {
      "cell_type": "code",
      "metadata": {
        "id": "06u-u8e4KWk4",
        "colab": {
          "base_uri": "https://localhost:8080/"
        },
        "outputId": "84fd487e-5f58-477b-dc22-f98f52225b8a"
      },
      "source": [
        "os.listdir('/content/drive/MyDrive/Data_Science_Course/Machine Learning/deep learning/UCI_HAR_Dataset/UCI HAR Dataset/train/Inertial Signals/')"
      ],
      "execution_count": 4,
      "outputs": [
        {
          "output_type": "execute_result",
          "data": {
            "text/plain": [
              "['body_acc_x_train.txt',\n",
              " 'body_gyro_z_train.txt',\n",
              " 'total_acc_z_train.txt',\n",
              " 'body_acc_y_train.txt',\n",
              " 'body_acc_z_train.txt',\n",
              " 'body_gyro_y_train.txt',\n",
              " 'total_acc_y_train.txt',\n",
              " 'total_acc_x_train.txt',\n",
              " 'body_gyro_x_train.txt']"
            ]
          },
          "metadata": {
            "tags": []
          },
          "execution_count": 4
        }
      ]
    },
    {
      "cell_type": "code",
      "metadata": {
        "id": "c5_0OBVeKWk7"
      },
      "source": [
        "X_train = load_func(\"/content/drive/MyDrive/Data_Science_Course/Machine Learning/deep learning/UCI_HAR_Dataset/UCI HAR Dataset/train/Inertial Signals\")\n",
        "X_test = load_func(\"/content/drive/MyDrive/Data_Science_Course/Machine Learning/deep learning/UCI_HAR_Dataset/UCI HAR Dataset/test/Inertial Signals\")\n",
        "y_train_cat = load_func('/content/drive/MyDrive/Data_Science_Course/Machine Learning/deep learning/UCI_HAR_Dataset/UCI HAR Dataset/train/y_train.txt', True)\n",
        "y_test_cat = load_func('/content/drive/MyDrive/Data_Science_Course/Machine Learning/deep learning/UCI_HAR_Dataset/UCI HAR Dataset/test/y_test.txt', True)"
      ],
      "execution_count": 5,
      "outputs": []
    },
    {
      "cell_type": "markdown",
      "metadata": {
        "id": "Rgw_29IQKWk8"
      },
      "source": [
        "Print the dimensions of both the predictor variables and the target."
      ]
    },
    {
      "cell_type": "code",
      "metadata": {
        "id": "BBiwN-zUKWk9",
        "colab": {
          "base_uri": "https://localhost:8080/"
        },
        "outputId": "cc295e7a-49e6-4f66-8126-3443722a2e3d"
      },
      "source": [
        "# Answer below:\n",
        "print('Training vars shape: ', X_train.shape, 'Training target shape: ', y_train_cat.shape)\n"
      ],
      "execution_count": 6,
      "outputs": [
        {
          "output_type": "stream",
          "text": [
            "Training vars shape:  (7352, 128, 9) Training target shape:  (7352, 1)\n"
          ],
          "name": "stdout"
        }
      ]
    },
    {
      "cell_type": "markdown",
      "metadata": {
        "id": "2rL-Y9KFKWk-"
      },
      "source": [
        "The target variable is categorical. One hot encode the target variable."
      ]
    },
    {
      "cell_type": "code",
      "metadata": {
        "colab": {
          "base_uri": "https://localhost:8080/"
        },
        "id": "BeN__cErzy9c",
        "outputId": "49bdc96d-a474-4055-f4d9-7a34148d7f85"
      },
      "source": [
        "y_train = pd.DataFrame(y_train_cat)\r\n",
        "y_test = pd.DataFrame(y_test_cat)\r\n",
        "y_train.nunique()"
      ],
      "execution_count": 7,
      "outputs": [
        {
          "output_type": "execute_result",
          "data": {
            "text/plain": [
              "0    6\n",
              "dtype: int64"
            ]
          },
          "metadata": {
            "tags": []
          },
          "execution_count": 7
        }
      ]
    },
    {
      "cell_type": "code",
      "metadata": {
        "id": "2BzBC9QNKWk_"
      },
      "source": [
        "# Answer below:\n",
        "y_train = to_categorical(y_train_cat - 1, 6)\n",
        "# pd.get_dummies(y_train_cat.flatten())\n",
        "y_test = to_categorical(y_test_cat -1, 6)\n",
        "# pd.get_dummies(y_test_cat.flatten())"
      ],
      "execution_count": 8,
      "outputs": []
    },
    {
      "cell_type": "markdown",
      "metadata": {
        "id": "HeKcEUwsKWlA"
      },
      "source": [
        "Create a model containing an LSTM layer with unit size 100, and input shape that is the tuple containing the number of columns in X and the number of files in X.\n",
        "\n",
        "The next layer is a dropout layer. Choose 0.5 for the proportion. Then add a dense layer of unit size 100 and finally an output dense layer. "
      ]
    },
    {
      "cell_type": "code",
      "metadata": {
        "id": "ujymmzAFKWlB"
      },
      "source": [
        "# Answer below:\n",
        "model = Sequential()\n",
        "\n",
        "model.add(LSTM(100, input_shape=X_train.shape[1:3]))\n",
        "model.add(Dropout(0.5))\n",
        "model.add(Dense(100))\n",
        "model.add(Dense(6, activation='softmax'))"
      ],
      "execution_count": 12,
      "outputs": []
    },
    {
      "cell_type": "markdown",
      "metadata": {
        "id": "GX4stdzAKWlC"
      },
      "source": [
        "Print the model summary to ensure you have the correct number of parameters."
      ]
    },
    {
      "cell_type": "code",
      "metadata": {
        "id": "AbUNEvSJKWlE",
        "colab": {
          "base_uri": "https://localhost:8080/"
        },
        "outputId": "7dbea9ca-7190-489f-8c37-5ba1001d4e7f"
      },
      "source": [
        "# Answer below:\n",
        "model.summary()"
      ],
      "execution_count": 13,
      "outputs": [
        {
          "output_type": "stream",
          "text": [
            "Model: \"sequential_1\"\n",
            "_________________________________________________________________\n",
            "Layer (type)                 Output Shape              Param #   \n",
            "=================================================================\n",
            "lstm_1 (LSTM)                (None, 100)               44000     \n",
            "_________________________________________________________________\n",
            "dropout_1 (Dropout)          (None, 100)               0         \n",
            "_________________________________________________________________\n",
            "dense_2 (Dense)              (None, 100)               10100     \n",
            "_________________________________________________________________\n",
            "dense_3 (Dense)              (None, 6)                 606       \n",
            "=================================================================\n",
            "Total params: 54,706\n",
            "Trainable params: 54,706\n",
            "Non-trainable params: 0\n",
            "_________________________________________________________________\n"
          ],
          "name": "stdout"
        }
      ]
    },
    {
      "cell_type": "markdown",
      "metadata": {
        "id": "Ww7tK6UwKWlG"
      },
      "source": [
        "Compile and fit the model. Select the appropriate activation, loss, and optimizer.\n",
        "\n",
        "Run the model for 10 epochs with a batch size of 80."
      ]
    },
    {
      "cell_type": "code",
      "metadata": {
        "id": "qdMikFoMKWlG",
        "colab": {
          "base_uri": "https://localhost:8080/"
        },
        "outputId": "2aee2d80-18e8-47c6-b818-376d08a399e0"
      },
      "source": [
        "# Answer below:\n",
        "model.compile(optimizer='adam', loss='categorical_crossentropy', metrics=['accuracy'])\n",
        "\n",
        "model.fit(X_train, y_train, validation_data=(X_test, y_test),\n",
        "          batch_size=80, epochs=10)"
      ],
      "execution_count": 14,
      "outputs": [
        {
          "output_type": "stream",
          "text": [
            "Epoch 1/10\n",
            "92/92 [==============================] - 9s 17ms/step - loss: 1.3514 - accuracy: 0.4328 - val_loss: 3.1462 - val_accuracy: 0.1524\n",
            "Epoch 2/10\n",
            "92/92 [==============================] - 1s 11ms/step - loss: 0.7062 - accuracy: 0.6941 - val_loss: 4.6054 - val_accuracy: 0.1035\n",
            "Epoch 3/10\n",
            "92/92 [==============================] - 1s 11ms/step - loss: 0.4801 - accuracy: 0.8105 - val_loss: 5.3668 - val_accuracy: 0.1439\n",
            "Epoch 4/10\n",
            "92/92 [==============================] - 1s 11ms/step - loss: 0.3414 - accuracy: 0.8944 - val_loss: 5.4368 - val_accuracy: 0.0794\n",
            "Epoch 5/10\n",
            "92/92 [==============================] - 1s 11ms/step - loss: 0.1912 - accuracy: 0.9305 - val_loss: 7.3926 - val_accuracy: 0.0814\n",
            "Epoch 6/10\n",
            "92/92 [==============================] - 1s 11ms/step - loss: 0.2353 - accuracy: 0.9084 - val_loss: 6.0743 - val_accuracy: 0.0970\n",
            "Epoch 7/10\n",
            "92/92 [==============================] - 1s 11ms/step - loss: 0.1791 - accuracy: 0.9338 - val_loss: 6.8744 - val_accuracy: 0.1127\n",
            "Epoch 8/10\n",
            "92/92 [==============================] - 1s 12ms/step - loss: 0.1810 - accuracy: 0.9316 - val_loss: 5.3725 - val_accuracy: 0.0954\n",
            "Epoch 9/10\n",
            "92/92 [==============================] - 1s 11ms/step - loss: 0.2214 - accuracy: 0.9225 - val_loss: 6.6303 - val_accuracy: 0.0614\n",
            "Epoch 10/10\n",
            "92/92 [==============================] - 1s 11ms/step - loss: 0.1547 - accuracy: 0.9438 - val_loss: 7.0692 - val_accuracy: 0.0699\n"
          ],
          "name": "stdout"
        },
        {
          "output_type": "execute_result",
          "data": {
            "text/plain": [
              "<tensorflow.python.keras.callbacks.History at 0x7f5eb430a160>"
            ]
          },
          "metadata": {
            "tags": []
          },
          "execution_count": 14
        }
      ]
    },
    {
      "cell_type": "markdown",
      "metadata": {
        "id": "h-_IsmrcKWlI"
      },
      "source": [
        "Print the confusion matrix for the test data."
      ]
    },
    {
      "cell_type": "code",
      "metadata": {
        "id": "bDLwv62wKWlI"
      },
      "source": [
        "# Answer below:\n",
        "y_preds = model.predict_classes(X_test)\n",
        "#np.argmax(model.predict(x), axis=-1)\n"
      ],
      "execution_count": null,
      "outputs": []
    },
    {
      "cell_type": "code",
      "metadata": {
        "id": "R-uFdqfE4iDC"
      },
      "source": [
        "test_preds.shape"
      ],
      "execution_count": null,
      "outputs": []
    },
    {
      "cell_type": "code",
      "metadata": {
        "id": "m6bWRF_-6ZkT"
      },
      "source": [
        "from sklearn.metrics import confusion_matrix\r\n",
        "import seaborn as sns\r\n",
        "\r\n",
        "y_preds = model.predict_classes(X_test)\r\n",
        "\r\n",
        "cm = confusion_matrix(y_test_cat-1, y_preds)\r\n",
        "\r\n",
        "sns.heatmap(cm, annot=True)"
      ],
      "execution_count": null,
      "outputs": []
    }
  ]
}