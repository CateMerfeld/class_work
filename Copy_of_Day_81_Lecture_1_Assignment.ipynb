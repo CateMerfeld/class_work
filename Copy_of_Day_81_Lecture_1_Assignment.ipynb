{
  "nbformat": 4,
  "nbformat_minor": 0,
  "metadata": {
    "kernelspec": {
      "display_name": "Python 3",
      "language": "python",
      "name": "python3"
    },
    "language_info": {
      "codemirror_mode": {
        "name": "ipython",
        "version": 3
      },
      "file_extension": ".py",
      "mimetype": "text/x-python",
      "name": "python",
      "nbconvert_exporter": "python",
      "pygments_lexer": "ipython3",
      "version": "3.7.0"
    },
    "colab": {
      "name": "Copy of Day 81 Lecture 1 Assignment.ipynb",
      "provenance": [],
      "collapsed_sections": [],
      "include_colab_link": true
    }
  },
  "cells": [
    {
      "cell_type": "markdown",
      "metadata": {
        "id": "view-in-github",
        "colab_type": "text"
      },
      "source": [
        "<a href=\"https://colab.research.google.com/github/CateMerfeld/class_work/blob/main/Copy_of_Day_81_Lecture_1_Assignment.ipynb\" target=\"_parent\"><img src=\"https://colab.research.google.com/assets/colab-badge.svg\" alt=\"Open In Colab\"/></a>"
      ]
    },
    {
      "cell_type": "markdown",
      "metadata": {
        "id": "087S2B-zux_6"
      },
      "source": [
        "## Day 76 Lecture 1 Assignment\n",
        "\n",
        "In this assignment, we will learn about the Dask library. We will use a json file containing the novel War and Peace loaded below and analyze the text."
      ]
    },
    {
      "cell_type": "code",
      "metadata": {
        "id": "IYIQ_BxAux_7"
      },
      "source": [
        "# !pip install dask[complete] --quiet \n",
        "# !pip install aiohttp --quiet\n",
        "# import dask.bag as db\n",
        "# import json\n",
        "# !pip install requests\n",
        "\n",
        "# tolstoy = db.read_text('https://tf-assets-prod.s3.amazonaws.com/tf-curric/data-science/Data%20Sets%20Big%20Data/2600-0.txt')"
      ],
      "execution_count": 7,
      "outputs": []
    },
    {
      "cell_type": "markdown",
      "metadata": {
        "id": "WBxjwKSnux_-"
      },
      "source": [
        "Above, we have loaded the novel War and Peace by Tolstoy into a Dask bag. Print the first 10 rows in the novel using the Dask bag."
      ]
    },
    {
      "cell_type": "code",
      "metadata": {
        "id": "iaIoIkW25DKu",
        "colab": {
          "base_uri": "https://localhost:8080/"
        },
        "outputId": "019a4eb6-9ce9-446d-82be-25c94a24b08c"
      },
      "source": [
        "tolstoy.take(10)"
      ],
      "execution_count": 6,
      "outputs": [
        {
          "output_type": "execute_result",
          "data": {
            "text/plain": [
              "('\\ufeffBOOK ONE: 1805\\n',\n",
              " '\\n',\n",
              " '\\n',\n",
              " '\\n',\n",
              " '\\n',\n",
              " '\\n',\n",
              " 'CHAPTER I\\n',\n",
              " '\\n',\n",
              " '“Well, Prince, so Genoa and Lucca are now just family estates of the\\n',\n",
              " 'Buonapartes. But I warn you, if you don’t tell me that this means war,\\n')"
            ]
          },
          "metadata": {
            "tags": []
          },
          "execution_count": 6
        }
      ]
    },
    {
      "cell_type": "markdown",
      "metadata": {
        "id": "uN65kINLuyAB"
      },
      "source": [
        "You may notice that there are many blank rows (rows containing only `\\n`) Filter these rows and print the first 10 non blank rows in the novel."
      ]
    },
    {
      "cell_type": "code",
      "metadata": {
        "id": "L28YX6uuux__",
        "colab": {
          "base_uri": "https://localhost:8080/"
        },
        "outputId": "376c0858-640a-4097-f715-8f7072cff121"
      },
      "source": [
        "#Answer below:\n",
        "def not_blank(x):\n",
        "  return x != '\\n'\n",
        "\n",
        "list(tolstoy.filter(not_blank))[:11]"
      ],
      "execution_count": 25,
      "outputs": [
        {
          "output_type": "execute_result",
          "data": {
            "text/plain": [
              "['\\ufeffBOOK ONE: 1805\\n',\n",
              " 'CHAPTER I\\n',\n",
              " '“Well, Prince, so Genoa and Lucca are now just family estates of the\\n',\n",
              " 'Buonapartes. But I warn you, if you don’t tell me that this means war,\\n',\n",
              " 'if you still try to defend the infamies and horrors perpetrated by that\\n',\n",
              " 'Antichrist—I really believe he is Antichrist—I will have nothing\\n',\n",
              " 'more to do with you and you are no longer my friend, no longer my\\n',\n",
              " '‘faithful slave,’ as you call yourself! But how do you do? I see I\\n',\n",
              " 'have frightened you—sit down and tell me all the news.”\\n',\n",
              " 'It was in July, 1805, and the speaker was the well-known Anna Pávlovna\\n',\n",
              " 'Schérer, maid of honor and favorite of the Empress Márya Fëdorovna.\\n']"
            ]
          },
          "metadata": {
            "tags": []
          },
          "execution_count": 25
        }
      ]
    },
    {
      "cell_type": "markdown",
      "metadata": {
        "id": "kjIeJ8ZFuyAD"
      },
      "source": [
        "We would like to count the frequency of all words in the novel. The first step is to remove the `\\n` from the end of each string. Do this using the map function. Inside the map function write a lambda that will replace the string `\\n` with `''`."
      ]
    },
    {
      "cell_type": "code",
      "metadata": {
        "id": "bGaXglIsuyAE",
        "colab": {
          "base_uri": "https://localhost:8080/"
        },
        "outputId": "3ea5807a-484d-4ba5-f04d-e3c4e8c682b5"
      },
      "source": [
        "#Answer below:\n",
        "clean = tolstoy.map(lambda x: x.replace('\\n', ''))\n",
        "clean.take(10)"
      ],
      "execution_count": 14,
      "outputs": [
        {
          "output_type": "execute_result",
          "data": {
            "text/plain": [
              "('\\ufeffBOOK ONE: 1805',\n",
              " '',\n",
              " '',\n",
              " '',\n",
              " '',\n",
              " '',\n",
              " 'CHAPTER I',\n",
              " '',\n",
              " '“Well, Prince, so Genoa and Lucca are now just family estates of the',\n",
              " 'Buonapartes. But I warn you, if you don’t tell me that this means war,')"
            ]
          },
          "metadata": {
            "tags": []
          },
          "execution_count": 14
        }
      ]
    },
    {
      "cell_type": "markdown",
      "metadata": {
        "id": "JIA08wDYuyAF"
      },
      "source": [
        "Next, split each row on the space (use a lambda function inside a map). Then apply the flatten function to create a list of all words in the novel."
      ]
    },
    {
      "cell_type": "code",
      "metadata": {
        "id": "cqjprCyYuyAG"
      },
      "source": [
        "# Answer below:\n",
        "split = clean.map(lambda x: x.split(' ')).flatten()"
      ],
      "execution_count": 22,
      "outputs": []
    },
    {
      "cell_type": "markdown",
      "metadata": {
        "id": "iK5V5L12uyAI"
      },
      "source": [
        "Using the frequencies function, return the top 10 words in the novel and their frequency"
      ]
    },
    {
      "cell_type": "code",
      "metadata": {
        "id": "PdEjFqKSuyAI",
        "colab": {
          "base_uri": "https://localhost:8080/"
        },
        "outputId": "15c665af-4be4-4185-b745-f88daf345e5a"
      },
      "source": [
        "# Answer below:\n",
        "freqs = dict(split.frequencies(sort=True))\n",
        "list(freqs.items())[:11]"
      ],
      "execution_count": 23,
      "outputs": [
        {
          "output_type": "execute_result",
          "data": {
            "text/plain": [
              "[('the', 31701),\n",
              " ('and', 20559),\n",
              " ('to', 16320),\n",
              " ('of', 14852),\n",
              " ('', 14800),\n",
              " ('a', 10018),\n",
              " ('in', 8228),\n",
              " ('he', 7631),\n",
              " ('his', 7630),\n",
              " ('that', 7230),\n",
              " ('was', 7189)]"
            ]
          },
          "metadata": {
            "tags": []
          },
          "execution_count": 23
        }
      ]
    }
  ]
}